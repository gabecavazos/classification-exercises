{
 "cells": [
  {
   "cell_type": "code",
   "execution_count": 6,
   "id": "1e160c6e",
   "metadata": {},
   "outputs": [],
   "source": [
    "import numpy as np\n",
    "import pandas as pd\n",
    "\n",
    "import matplotlib.pyplot as plt\n",
    "import seaborn as sns\n",
    "\n",
    "from sklearn.tree import DecisionTreeClassifier, export_text, plot_tree\n",
    "from sklearn.metrics import accuracy_score, classification_report, confusion_matrix\n",
    "from sklearn.model_selection import train_test_split\n",
    "from sklearn.ensemble import RandomForestClassifier\n",
    "import prepare"
   ]
  },
  {
   "cell_type": "code",
   "execution_count": 2,
   "id": "32c405ce",
   "metadata": {},
   "outputs": [],
   "source": [
    "titanic = prepare.prep_titanic(pd.read_csv('titanic_df.csv'))"
   ]
  },
  {
   "cell_type": "code",
   "execution_count": 3,
   "id": "1f5b2b11",
   "metadata": {},
   "outputs": [],
   "source": [
    "titanic.drop(columns=['Unnamed: 0','embark_town','sex'],inplace=True)\n"
   ]
  },
  {
   "cell_type": "code",
   "execution_count": 4,
   "id": "d9538c0a",
   "metadata": {},
   "outputs": [],
   "source": [
    "train_val, test = train_test_split(titanic,train_size=0.8,random_state=1349,stratify=titanic['survived'])\n",
    "train, validate = train_test_split(train_val,train_size=0.7,random_state=1349,stratify=train_val['survived'])"
   ]
  },
  {
   "cell_type": "code",
   "execution_count": 5,
   "id": "c83faab1",
   "metadata": {},
   "outputs": [],
   "source": [
    "X_cols = titanic.columns.to_list()\n",
    "X_cols.remove('survived')\n",
    "y_cols = 'survived'"
   ]
  },
  {
   "cell_type": "code",
   "execution_count": 7,
   "id": "dadfb1b0",
   "metadata": {},
   "outputs": [],
   "source": [
    "rf1 = RandomForestClassifier() "
   ]
  },
  {
   "cell_type": "code",
   "execution_count": 8,
   "id": "351ad128",
   "metadata": {},
   "outputs": [
    {
     "data": {
      "text/plain": [
       "RandomForestClassifier()"
      ]
     },
     "execution_count": 8,
     "metadata": {},
     "output_type": "execute_result"
    }
   ],
   "source": [
    "rf1.fit(train[X_cols],train[y_cols])"
   ]
  },
  {
   "cell_type": "code",
   "execution_count": 9,
   "id": "2f64b85d",
   "metadata": {},
   "outputs": [],
   "source": [
    "rf1_preds = rf1.predict(train[X_cols])"
   ]
  },
  {
   "cell_type": "code",
   "execution_count": 10,
   "id": "214559e7",
   "metadata": {},
   "outputs": [
    {
     "data": {
      "text/plain": [
       "0.9839357429718876"
      ]
     },
     "execution_count": 10,
     "metadata": {},
     "output_type": "execute_result"
    }
   ],
   "source": [
    "rf1.score(train[X_cols],train[y_cols])"
   ]
  },
  {
   "cell_type": "code",
   "execution_count": 11,
   "id": "62f4e6c6",
   "metadata": {},
   "outputs": [
    {
     "name": "stdout",
     "output_type": "stream",
     "text": [
      "              precision    recall  f1-score   support\n",
      "\n",
      "           0       0.98      0.99      0.99       307\n",
      "           1       0.98      0.97      0.98       191\n",
      "\n",
      "    accuracy                           0.98       498\n",
      "   macro avg       0.98      0.98      0.98       498\n",
      "weighted avg       0.98      0.98      0.98       498\n",
      "\n"
     ]
    }
   ],
   "source": [
    "print(classification_report(train[y_cols],rf1_preds))"
   ]
  },
  {
   "cell_type": "code",
   "execution_count": 12,
   "id": "dca6c7f0",
   "metadata": {},
   "outputs": [
    {
     "data": {
      "text/plain": [
       "array([[304,   3],\n",
       "       [  5, 186]])"
      ]
     },
     "execution_count": 12,
     "metadata": {},
     "output_type": "execute_result"
    }
   ],
   "source": [
    "confusion_matrix(train[y_cols],rf1_preds)"
   ]
  },
  {
   "cell_type": "code",
   "execution_count": null,
   "id": "0736d9d7",
   "metadata": {},
   "outputs": [],
   "source": []
  }
 ],
 "metadata": {
  "kernelspec": {
   "display_name": "Python 3 (ipykernel)",
   "language": "python",
   "name": "python3"
  },
  "language_info": {
   "codemirror_mode": {
    "name": "ipython",
    "version": 3
   },
   "file_extension": ".py",
   "mimetype": "text/x-python",
   "name": "python",
   "nbconvert_exporter": "python",
   "pygments_lexer": "ipython3",
   "version": "3.9.13"
  }
 },
 "nbformat": 4,
 "nbformat_minor": 5
}
