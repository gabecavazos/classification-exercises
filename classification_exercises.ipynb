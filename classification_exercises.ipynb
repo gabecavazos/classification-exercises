{
 "cells": [
  {
   "cell_type": "code",
   "execution_count": 2,
   "id": "7b768e59",
   "metadata": {},
   "outputs": [],
   "source": [
    "import pandas as pd\n",
    "import numpy as np\n",
    "from pydataset import data\n",
    "import matplotlib.pyplot as plt\n",
    "import env\n",
    "\n",
    "def get_connection(db, user=env.user, host=env.host, password=env.password):\n",
    "    return f'mysql+pymysql://{user}:{password}@{host}/{db}'\n",
    "\n",
    "iris_sql=\"SELECT measurements.measurement_id, \\\n",
    "    measurements.sepal_length, measurements.sepal_width, measurements.petal_length, \\\n",
    "        measurements.petal_width, species.species_name, species.species_id \\\n",
    "            FROM measurements JOIN species ON(species.species_id=measurements.species_id)\"\n",
    "\n",
    "def get_iris_data():\n",
    "    return pd.read_sql(iris_sql,get_connection('iris_db'))"
   ]
  },
  {
   "cell_type": "code",
   "execution_count": 11,
   "id": "e1d7b110",
   "metadata": {},
   "outputs": [],
   "source": [
    "df_iris = pd.DataFrame(data('iris'))"
   ]
  },
  {
   "cell_type": "code",
   "execution_count": 16,
   "id": "21915590",
   "metadata": {},
   "outputs": [
    {
     "name": "stdout",
     "output_type": "stream",
     "text": [
      "<class 'pandas.core.frame.DataFrame'>\n",
      "Int64Index: 150 entries, 1 to 150\n",
      "Data columns (total 5 columns):\n",
      " #   Column        Non-Null Count  Dtype  \n",
      "---  ------        --------------  -----  \n",
      " 0   Sepal.Length  150 non-null    float64\n",
      " 1   Sepal.Width   150 non-null    float64\n",
      " 2   Petal.Length  150 non-null    float64\n",
      " 3   Petal.Width   150 non-null    float64\n",
      " 4   Species       150 non-null    object \n",
      "dtypes: float64(4), object(1)\n",
      "memory usage: 7.0+ KB\n"
     ]
    }
   ],
   "source": [
    "df_iris.info()"
   ]
  },
  {
   "cell_type": "code",
   "execution_count": 12,
   "id": "f9710865",
   "metadata": {},
   "outputs": [
    {
     "data": {
      "text/html": [
       "<div>\n",
       "<style scoped>\n",
       "    .dataframe tbody tr th:only-of-type {\n",
       "        vertical-align: middle;\n",
       "    }\n",
       "\n",
       "    .dataframe tbody tr th {\n",
       "        vertical-align: top;\n",
       "    }\n",
       "\n",
       "    .dataframe thead th {\n",
       "        text-align: right;\n",
       "    }\n",
       "</style>\n",
       "<table border=\"1\" class=\"dataframe\">\n",
       "  <thead>\n",
       "    <tr style=\"text-align: right;\">\n",
       "      <th></th>\n",
       "      <th>Sepal.Length</th>\n",
       "      <th>Sepal.Width</th>\n",
       "      <th>Petal.Length</th>\n",
       "      <th>Petal.Width</th>\n",
       "      <th>Species</th>\n",
       "    </tr>\n",
       "  </thead>\n",
       "  <tbody>\n",
       "    <tr>\n",
       "      <th>1</th>\n",
       "      <td>5.1</td>\n",
       "      <td>3.5</td>\n",
       "      <td>1.4</td>\n",
       "      <td>0.2</td>\n",
       "      <td>setosa</td>\n",
       "    </tr>\n",
       "    <tr>\n",
       "      <th>2</th>\n",
       "      <td>4.9</td>\n",
       "      <td>3.0</td>\n",
       "      <td>1.4</td>\n",
       "      <td>0.2</td>\n",
       "      <td>setosa</td>\n",
       "    </tr>\n",
       "    <tr>\n",
       "      <th>3</th>\n",
       "      <td>4.7</td>\n",
       "      <td>3.2</td>\n",
       "      <td>1.3</td>\n",
       "      <td>0.2</td>\n",
       "      <td>setosa</td>\n",
       "    </tr>\n",
       "  </tbody>\n",
       "</table>\n",
       "</div>"
      ],
      "text/plain": [
       "   Sepal.Length  Sepal.Width  Petal.Length  Petal.Width Species\n",
       "1           5.1          3.5           1.4          0.2  setosa\n",
       "2           4.9          3.0           1.4          0.2  setosa\n",
       "3           4.7          3.2           1.3          0.2  setosa"
      ]
     },
     "execution_count": 12,
     "metadata": {},
     "output_type": "execute_result"
    }
   ],
   "source": [
    "df_iris.head(3)"
   ]
  },
  {
   "cell_type": "code",
   "execution_count": 15,
   "id": "ddb97d4b",
   "metadata": {},
   "outputs": [
    {
     "ename": "TypeError",
     "evalue": "'numpy.int64' object is not callable",
     "output_type": "error",
     "traceback": [
      "\u001b[0;31m---------------------------------------------------------------------------\u001b[0m",
      "\u001b[0;31mTypeError\u001b[0m                                 Traceback (most recent call last)",
      "\u001b[0;32m/var/folders/73/8c9znrxs6gv1sc4y9jvw8pvh0000gn/T/ipykernel_1715/3417766274.py\u001b[0m in \u001b[0;36m<module>\u001b[0;34m\u001b[0m\n\u001b[0;32m----> 1\u001b[0;31m \u001b[0mdf_iris\u001b[0m\u001b[0;34m.\u001b[0m\u001b[0msize\u001b[0m\u001b[0;34m(\u001b[0m\u001b[0;34m)\u001b[0m\u001b[0;34m\u001b[0m\u001b[0;34m\u001b[0m\u001b[0m\n\u001b[0m",
      "\u001b[0;31mTypeError\u001b[0m: 'numpy.int64' object is not callable"
     ]
    }
   ],
   "source": [
    "df_iris.size()"
   ]
  },
  {
   "cell_type": "code",
   "execution_count": 17,
   "id": "d28c3f68",
   "metadata": {},
   "outputs": [
    {
     "data": {
      "text/plain": [
       "Index(['Sepal.Length', 'Sepal.Width', 'Petal.Length', 'Petal.Width',\n",
       "       'Species'],\n",
       "      dtype='object')"
      ]
     },
     "execution_count": 17,
     "metadata": {},
     "output_type": "execute_result"
    }
   ],
   "source": [
    "df_iris.columns"
   ]
  },
  {
   "cell_type": "code",
   "execution_count": 18,
   "id": "640cf78f",
   "metadata": {},
   "outputs": [
    {
     "name": "stdout",
     "output_type": "stream",
     "text": [
      "<class 'pandas.core.frame.DataFrame'>\n",
      "Int64Index: 150 entries, 1 to 150\n",
      "Data columns (total 5 columns):\n",
      " #   Column        Non-Null Count  Dtype  \n",
      "---  ------        --------------  -----  \n",
      " 0   Sepal.Length  150 non-null    float64\n",
      " 1   Sepal.Width   150 non-null    float64\n",
      " 2   Petal.Length  150 non-null    float64\n",
      " 3   Petal.Width   150 non-null    float64\n",
      " 4   Species       150 non-null    object \n",
      "dtypes: float64(4), object(1)\n",
      "memory usage: 7.0+ KB\n"
     ]
    }
   ],
   "source": [
    "df_iris.info()"
   ]
  },
  {
   "cell_type": "code",
   "execution_count": 19,
   "id": "56f48f60",
   "metadata": {},
   "outputs": [
    {
     "data": {
      "text/plain": [
       "Sepal.Length  Sepal.Width  Petal.Length  Petal.Width  Species   \n",
       "5.8           2.7          5.1           1.9          virginica     2\n",
       "6.2           2.2          4.5           1.5          versicolor    1\n",
       "              2.9          4.3           1.3          versicolor    1\n",
       "              3.4          5.4           2.3          virginica     1\n",
       "6.3           2.3          4.4           1.3          versicolor    1\n",
       "              2.5          4.9           1.5          versicolor    1\n",
       "                           5.0           1.9          virginica     1\n",
       "              2.7          4.9           1.8          virginica     1\n",
       "              2.8          5.1           1.5          virginica     1\n",
       "              2.9          5.6           1.8          virginica     1\n",
       "              3.3          4.7           1.6          versicolor    1\n",
       "                           6.0           2.5          virginica     1\n",
       "              3.4          5.6           2.4          virginica     1\n",
       "6.4           2.7          5.3           1.9          virginica     1\n",
       "              2.8          5.6           2.1          virginica     1\n",
       "                                         2.2          virginica     1\n",
       "              2.9          4.3           1.3          versicolor    1\n",
       "6.2           2.8          4.8           1.8          virginica     1\n",
       "6.1           3.0          4.9           1.8          virginica     1\n",
       "5.8           2.7          4.1           1.0          versicolor    1\n",
       "6.1           3.0          4.6           1.4          versicolor    1\n",
       "5.8           2.8          5.1           2.4          virginica     1\n",
       "              4.0          1.2           0.2          setosa        1\n",
       "5.9           3.0          4.2           1.5          versicolor    1\n",
       "                           5.1           1.8          virginica     1\n",
       "              3.2          4.8           1.8          versicolor    1\n",
       "6.0           2.2          4.0           1.0          versicolor    1\n",
       "                           5.0           1.5          virginica     1\n",
       "              2.7          5.1           1.6          versicolor    1\n",
       "              2.9          4.5           1.5          versicolor    1\n",
       "              3.0          4.8           1.8          virginica     1\n",
       "              3.4          4.5           1.6          versicolor    1\n",
       "6.1           2.6          5.6           1.4          virginica     1\n",
       "              2.8          4.0           1.3          versicolor    1\n",
       "                           4.7           1.2          versicolor    1\n",
       "              2.9          4.7           1.4          versicolor    1\n",
       "6.4           3.1          5.5           1.8          virginica     1\n",
       "4.3           3.0          1.1           0.1          setosa        1\n",
       "6.4           3.2          5.3           2.3          virginica     1\n",
       "6.5           2.8          4.6           1.5          versicolor    1\n",
       "6.9           3.1          5.1           2.3          virginica     1\n",
       "                           5.4           2.1          virginica     1\n",
       "              3.2          5.7           2.3          virginica     1\n",
       "7.0           3.2          4.7           1.4          versicolor    1\n",
       "7.1           3.0          5.9           2.1          virginica     1\n",
       "7.2           3.0          5.8           1.6          virginica     1\n",
       "              3.2          6.0           1.8          virginica     1\n",
       "              3.6          6.1           2.5          virginica     1\n",
       "7.3           2.9          6.3           1.8          virginica     1\n",
       "7.4           2.8          6.1           1.9          virginica     1\n",
       "7.6           3.0          6.6           2.1          virginica     1\n",
       "7.7           2.6          6.9           2.3          virginica     1\n",
       "              2.8          6.7           2.0          virginica     1\n",
       "              3.0          6.1           2.3          virginica     1\n",
       "              3.8          6.7           2.2          virginica     1\n",
       "6.9           3.1          4.9           1.5          versicolor    1\n",
       "6.8           3.2          5.9           2.3          virginica     1\n",
       "              3.0          5.5           2.1          virginica     1\n",
       "6.7           2.5          5.8           1.8          virginica     1\n",
       "6.5           3.0          5.2           2.0          virginica     1\n",
       "                           5.5           1.8          virginica     1\n",
       "                           5.8           2.2          virginica     1\n",
       "              3.2          5.1           2.0          virginica     1\n",
       "6.6           2.9          4.6           1.3          versicolor    1\n",
       "              3.0          4.4           1.4          versicolor    1\n",
       "6.7           3.0          5.0           1.7          versicolor    1\n",
       "6.8           2.8          4.8           1.4          versicolor    1\n",
       "6.7           3.0          5.2           2.3          virginica     1\n",
       "              3.1          4.4           1.4          versicolor    1\n",
       "                           4.7           1.5          versicolor    1\n",
       "                           5.6           2.4          virginica     1\n",
       "              3.3          5.7           2.1          virginica     1\n",
       "                                         2.5          virginica     1\n",
       "6.4           3.2          4.5           1.5          versicolor    1\n",
       "5.8           2.7          3.9           1.2          versicolor    1\n",
       "4.4           2.9          1.4           0.2          setosa        1\n",
       "4.9           3.1          1.5           0.1          setosa        1\n",
       "              3.6          1.4           0.1          setosa        1\n",
       "5.0           2.0          3.5           1.0          versicolor    1\n",
       "              2.3          3.3           1.0          versicolor    1\n",
       "              3.0          1.6           0.2          setosa        1\n",
       "              3.2          1.2           0.2          setosa        1\n",
       "              3.3          1.4           0.2          setosa        1\n",
       "              3.4          1.5           0.2          setosa        1\n",
       "                           1.6           0.4          setosa        1\n",
       "              3.5          1.3           0.3          setosa        1\n",
       "                           1.6           0.6          setosa        1\n",
       "              3.6          1.4           0.2          setosa        1\n",
       "5.1           2.5          3.0           1.1          versicolor    1\n",
       "              3.3          1.7           0.5          setosa        1\n",
       "              3.4          1.5           0.2          setosa        1\n",
       "              3.5          1.4           0.2          setosa        1\n",
       "4.9           3.1          1.5           0.2          setosa        1\n",
       "              3.0          1.4           0.2          setosa        1\n",
       "5.8           2.6          4.0           1.2          versicolor    1\n",
       "4.9           2.5          4.5           1.7          virginica     1\n",
       "4.4           3.0          1.3           0.2          setosa        1\n",
       "              3.2          1.3           0.2          setosa        1\n",
       "4.5           2.3          1.3           0.3          setosa        1\n",
       "4.6           3.1          1.5           0.2          setosa        1\n",
       "              3.2          1.4           0.2          setosa        1\n",
       "              3.4          1.4           0.3          setosa        1\n",
       "              3.6          1.0           0.2          setosa        1\n",
       "4.7           3.2          1.3           0.2          setosa        1\n",
       "                           1.6           0.2          setosa        1\n",
       "4.8           3.0          1.4           0.1          setosa        1\n",
       "                                         0.3          setosa        1\n",
       "              3.1          1.6           0.2          setosa        1\n",
       "              3.4          1.6           0.2          setosa        1\n",
       "                           1.9           0.2          setosa        1\n",
       "4.9           2.4          3.3           1.0          versicolor    1\n",
       "5.1           3.5          1.4           0.3          setosa        1\n",
       "              3.7          1.5           0.4          setosa        1\n",
       "              3.8          1.5           0.3          setosa        1\n",
       "                           1.6           0.2          setosa        1\n",
       "5.5           4.2          1.4           0.2          setosa        1\n",
       "5.6           2.5          3.9           1.1          versicolor    1\n",
       "              2.7          4.2           1.3          versicolor    1\n",
       "              2.8          4.9           2.0          virginica     1\n",
       "              2.9          3.6           1.3          versicolor    1\n",
       "              3.0          4.1           1.3          versicolor    1\n",
       "                           4.5           1.5          versicolor    1\n",
       "5.7           2.5          5.0           2.0          virginica     1\n",
       "              2.6          3.5           1.0          versicolor    1\n",
       "              2.8          4.1           1.3          versicolor    1\n",
       "                           4.5           1.3          versicolor    1\n",
       "              2.9          4.2           1.3          versicolor    1\n",
       "              3.0          4.2           1.2          versicolor    1\n",
       "              3.8          1.7           0.3          setosa        1\n",
       "              4.4          1.5           0.4          setosa        1\n",
       "5.5           3.5          1.3           0.2          setosa        1\n",
       "              2.6          4.4           1.2          versicolor    1\n",
       "              2.5          4.0           1.3          versicolor    1\n",
       "5.4           3.0          4.5           1.5          versicolor    1\n",
       "5.1           3.8          1.9           0.4          setosa        1\n",
       "5.2           2.7          3.9           1.4          versicolor    1\n",
       "              3.4          1.4           0.2          setosa        1\n",
       "              3.5          1.5           0.2          setosa        1\n",
       "              4.1          1.5           0.1          setosa        1\n",
       "5.3           3.7          1.5           0.2          setosa        1\n",
       "5.4           3.4          1.5           0.4          setosa        1\n",
       "5.5           2.4          3.8           1.1          versicolor    1\n",
       "5.4           3.4          1.7           0.2          setosa        1\n",
       "              3.7          1.5           0.2          setosa        1\n",
       "              3.9          1.3           0.4          setosa        1\n",
       "                           1.7           0.4          setosa        1\n",
       "5.5           2.3          4.0           1.3          versicolor    1\n",
       "              2.4          3.7           1.0          versicolor    1\n",
       "7.9           3.8          6.4           2.0          virginica     1\n",
       "dtype: int64"
      ]
     },
     "execution_count": 19,
     "metadata": {},
     "output_type": "execute_result"
    }
   ],
   "source": [
    "df_iris.value_counts()"
   ]
  },
  {
   "cell_type": "code",
   "execution_count": 23,
   "id": "5767afb9",
   "metadata": {},
   "outputs": [
    {
     "data": {
      "text/html": [
       "<div>\n",
       "<style scoped>\n",
       "    .dataframe tbody tr th:only-of-type {\n",
       "        vertical-align: middle;\n",
       "    }\n",
       "\n",
       "    .dataframe tbody tr th {\n",
       "        vertical-align: top;\n",
       "    }\n",
       "\n",
       "    .dataframe thead th {\n",
       "        text-align: right;\n",
       "    }\n",
       "</style>\n",
       "<table border=\"1\" class=\"dataframe\">\n",
       "  <thead>\n",
       "    <tr style=\"text-align: right;\">\n",
       "      <th></th>\n",
       "      <th>PassengerId</th>\n",
       "      <th>Survived</th>\n",
       "      <th>Pclass</th>\n",
       "      <th>Name</th>\n",
       "      <th>Sex</th>\n",
       "      <th>Age</th>\n",
       "      <th>SibSp</th>\n",
       "      <th>Parch</th>\n",
       "      <th>Ticket</th>\n",
       "      <th>Fare</th>\n",
       "      <th>Cabin</th>\n",
       "      <th>Embarked</th>\n",
       "    </tr>\n",
       "  </thead>\n",
       "  <tbody>\n",
       "    <tr>\n",
       "      <th>0</th>\n",
       "      <td>1</td>\n",
       "      <td>0</td>\n",
       "      <td>3</td>\n",
       "      <td>Braund, Mr. Owen Harris</td>\n",
       "      <td>male</td>\n",
       "      <td>22.0</td>\n",
       "      <td>1</td>\n",
       "      <td>0</td>\n",
       "      <td>A/5 21171</td>\n",
       "      <td>7.2500</td>\n",
       "      <td>NaN</td>\n",
       "      <td>S</td>\n",
       "    </tr>\n",
       "    <tr>\n",
       "      <th>1</th>\n",
       "      <td>2</td>\n",
       "      <td>1</td>\n",
       "      <td>1</td>\n",
       "      <td>Cumings, Mrs. John Bradley (Florence Briggs Thayer)</td>\n",
       "      <td>female</td>\n",
       "      <td>38.0</td>\n",
       "      <td>1</td>\n",
       "      <td>0</td>\n",
       "      <td>PC 17599</td>\n",
       "      <td>71.2833</td>\n",
       "      <td>C85</td>\n",
       "      <td>C</td>\n",
       "    </tr>\n",
       "    <tr>\n",
       "      <th>2</th>\n",
       "      <td>3</td>\n",
       "      <td>1</td>\n",
       "      <td>3</td>\n",
       "      <td>Heikkinen, Miss. Laina</td>\n",
       "      <td>female</td>\n",
       "      <td>26.0</td>\n",
       "      <td>0</td>\n",
       "      <td>0</td>\n",
       "      <td>STON/O2. 3101282</td>\n",
       "      <td>7.9250</td>\n",
       "      <td>NaN</td>\n",
       "      <td>S</td>\n",
       "    </tr>\n",
       "  </tbody>\n",
       "</table>\n",
       "</div>"
      ],
      "text/plain": [
       "   PassengerId  Survived  Pclass  \\\n",
       "0            1         0       3   \n",
       "1            2         1       1   \n",
       "2            3         1       3   \n",
       "\n",
       "                                                  Name     Sex   Age  SibSp  \\\n",
       "0                              Braund, Mr. Owen Harris    male  22.0      1   \n",
       "1  Cumings, Mrs. John Bradley (Florence Briggs Thayer)  female  38.0      1   \n",
       "2                               Heikkinen, Miss. Laina  female  26.0      0   \n",
       "\n",
       "   Parch            Ticket     Fare Cabin Embarked  \n",
       "0      0         A/5 21171   7.2500   NaN        S  \n",
       "1      0          PC 17599  71.2833   C85        C  \n",
       "2      0  STON/O2. 3101282   7.9250   NaN        S  "
      ]
     },
     "execution_count": 23,
     "metadata": {},
     "output_type": "execute_result"
    }
   ],
   "source": [
    "\n",
    "sheet_url = 'https://docs.google.com/spreadsheets/d/1Uhtml8KY19LILuZsrDtlsHHDC9wuDGUSe8LTEwvdI5g/edit#gid=341089357'    \n",
    "\n",
    "csv_export_url = sheet_url.replace('/edit#gid=', '/export?format=csv&gid=')\n",
    "\n",
    "df_google = pd.read_csv(csv_export_url)\n",
    "df_google.head(3)\n"
   ]
  },
  {
   "cell_type": "code",
   "execution_count": 24,
   "id": "d152a741",
   "metadata": {},
   "outputs": [
    {
     "ename": "TypeError",
     "evalue": "'tuple' object is not callable",
     "output_type": "error",
     "traceback": [
      "\u001b[0;31m---------------------------------------------------------------------------\u001b[0m",
      "\u001b[0;31mTypeError\u001b[0m                                 Traceback (most recent call last)",
      "\u001b[0;32m/var/folders/73/8c9znrxs6gv1sc4y9jvw8pvh0000gn/T/ipykernel_1715/2116005457.py\u001b[0m in \u001b[0;36m<module>\u001b[0;34m\u001b[0m\n\u001b[0;32m----> 1\u001b[0;31m \u001b[0mdf_google\u001b[0m\u001b[0;34m.\u001b[0m\u001b[0mshape\u001b[0m\u001b[0;34m(\u001b[0m\u001b[0;34m)\u001b[0m\u001b[0;34m\u001b[0m\u001b[0;34m\u001b[0m\u001b[0m\n\u001b[0m",
      "\u001b[0;31mTypeError\u001b[0m: 'tuple' object is not callable"
     ]
    }
   ],
   "source": [
    "df_google.shape()"
   ]
  },
  {
   "cell_type": "code",
   "execution_count": 25,
   "id": "5fa9ca23",
   "metadata": {},
   "outputs": [
    {
     "data": {
      "text/plain": [
       "Index(['PassengerId', 'Survived', 'Pclass', 'Name', 'Sex', 'Age', 'SibSp',\n",
       "       'Parch', 'Ticket', 'Fare', 'Cabin', 'Embarked'],\n",
       "      dtype='object')"
      ]
     },
     "execution_count": 25,
     "metadata": {},
     "output_type": "execute_result"
    }
   ],
   "source": [
    "df_google.columns"
   ]
  },
  {
   "cell_type": "code",
   "execution_count": 26,
   "id": "45d9b93b",
   "metadata": {},
   "outputs": [
    {
     "name": "stdout",
     "output_type": "stream",
     "text": [
      "<class 'pandas.core.frame.DataFrame'>\n",
      "RangeIndex: 891 entries, 0 to 890\n",
      "Data columns (total 12 columns):\n",
      " #   Column       Non-Null Count  Dtype  \n",
      "---  ------       --------------  -----  \n",
      " 0   PassengerId  891 non-null    int64  \n",
      " 1   Survived     891 non-null    int64  \n",
      " 2   Pclass       891 non-null    int64  \n",
      " 3   Name         891 non-null    object \n",
      " 4   Sex          891 non-null    object \n",
      " 5   Age          714 non-null    float64\n",
      " 6   SibSp        891 non-null    int64  \n",
      " 7   Parch        891 non-null    int64  \n",
      " 8   Ticket       891 non-null    object \n",
      " 9   Fare         891 non-null    float64\n",
      " 10  Cabin        204 non-null    object \n",
      " 11  Embarked     889 non-null    object \n",
      "dtypes: float64(2), int64(5), object(5)\n",
      "memory usage: 83.7+ KB\n"
     ]
    }
   ],
   "source": [
    "df_google.info()"
   ]
  },
  {
   "cell_type": "code",
   "execution_count": 27,
   "id": "7df5e683",
   "metadata": {},
   "outputs": [
    {
     "data": {
      "text/plain": [
       "PassengerId  Survived  Pclass  Name                                                  Sex     Age   SibSp  Parch  Ticket    Fare      Cabin  Embarked\n",
       "2            1         1       Cumings, Mrs. John Bradley (Florence Briggs Thayer)   female  38.0  1      0      PC 17599  71.2833   C85    C           1\n",
       "572          1         1       Appleton, Mrs. Edward Dale (Charlotte Lamson)         female  53.0  2      0      11769     51.4792   C101   S           1\n",
       "578          1         1       Silvey, Mrs. William Baird (Alice Munger)             female  39.0  1      0      13507     55.9000   E44    S           1\n",
       "582          1         1       Thayer, Mrs. John Borland (Marian Longstreth Morris)  female  39.0  1      1      17421     110.8833  C68    C           1\n",
       "584          0         1       Ross, Mr. John Hugo                                   male    36.0  0      0      13049     40.1250   A10    C           1\n",
       "                                                                                                                                                       ..\n",
       "328          1         2       Ball, Mrs. (Ada E Hall)                               female  36.0  0      0      28551     13.0000   D      S           1\n",
       "330          1         1       Hippach, Miss. Jean Gertrude                          female  16.0  0      1      111361    57.9792   B18    C           1\n",
       "332          0         1       Partner, Mr. Austen                                   male    45.5  0      0      113043    28.5000   C124   S           1\n",
       "333          0         1       Graham, Mr. George Edward                             male    38.0  0      1      PC 17582  153.4625  C91    S           1\n",
       "890          1         1       Behr, Mr. Karl Howell                                 male    26.0  0      0      111369    30.0000   C148   C           1\n",
       "Length: 183, dtype: int64"
      ]
     },
     "execution_count": 27,
     "metadata": {},
     "output_type": "execute_result"
    }
   ],
   "source": [
    "df_google.value_counts()"
   ]
  },
  {
   "cell_type": "code",
   "execution_count": 32,
   "id": "bafb6d0f",
   "metadata": {},
   "outputs": [
    {
     "data": {
      "text/plain": [
       "PassengerId  Survived  Pclass  Name                                                  Sex     Age   SibSp  Parch  Ticket    Fare      Cabin  Embarked\n",
       "2            1         1       Cumings, Mrs. John Bradley (Florence Briggs Thayer)   female  38.0  1      0      PC 17599  71.2833   C85    C           1\n",
       "572          1         1       Appleton, Mrs. Edward Dale (Charlotte Lamson)         female  53.0  2      0      11769     51.4792   C101   S           1\n",
       "578          1         1       Silvey, Mrs. William Baird (Alice Munger)             female  39.0  1      0      13507     55.9000   E44    S           1\n",
       "582          1         1       Thayer, Mrs. John Borland (Marian Longstreth Morris)  female  39.0  1      1      17421     110.8833  C68    C           1\n",
       "584          0         1       Ross, Mr. John Hugo                                   male    36.0  0      0      13049     40.1250   A10    C           1\n",
       "                                                                                                                                                       ..\n",
       "328          1         2       Ball, Mrs. (Ada E Hall)                               female  36.0  0      0      28551     13.0000   D      S           1\n",
       "330          1         1       Hippach, Miss. Jean Gertrude                          female  16.0  0      1      111361    57.9792   B18    C           1\n",
       "332          0         1       Partner, Mr. Austen                                   male    45.5  0      0      113043    28.5000   C124   S           1\n",
       "333          0         1       Graham, Mr. George Edward                             male    38.0  0      1      PC 17582  153.4625  C91    S           1\n",
       "890          1         1       Behr, Mr. Karl Howell                                 male    26.0  0      0      111369    30.0000   C148   C           1\n",
       "Length: 183, dtype: int64"
      ]
     },
     "execution_count": 32,
     "metadata": {},
     "output_type": "execute_result"
    }
   ],
   "source": [
    "df_google.value_counts()"
   ]
  },
  {
   "cell_type": "code",
   "execution_count": null,
   "id": "18ee2f3c",
   "metadata": {},
   "outputs": [],
   "source": []
  }
 ],
 "metadata": {
  "kernelspec": {
   "display_name": "Python 3 (ipykernel)",
   "language": "python",
   "name": "python3"
  },
  "language_info": {
   "codemirror_mode": {
    "name": "ipython",
    "version": 3
   },
   "file_extension": ".py",
   "mimetype": "text/x-python",
   "name": "python",
   "nbconvert_exporter": "python",
   "pygments_lexer": "ipython3",
   "version": "3.9.13"
  }
 },
 "nbformat": 4,
 "nbformat_minor": 5
}
