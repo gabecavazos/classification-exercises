{
 "cells": [
  {
   "cell_type": "code",
   "execution_count": 5,
   "id": "7de24424",
   "metadata": {},
   "outputs": [],
   "source": [
    "# DS Libraries\n",
    "import pandas as pd\n",
    "import numpy as np\n",
    "\n",
    "# Data visualization\n",
    "import matplotlib.pyplot as plt\n",
    "import seaborn as sns\n",
    "\n",
    "# knn submodules from scikit learn\n",
    "from sklearn.model_selection import train_test_split\n",
    "from sklearn.neighbors import KNeighborsClassifier\n",
    "from sklearn.metrics import classification_report, confusion_matrix, plot_confusion_matrix\n",
    "\n",
    "# Data Acquisition\n",
    "from pydataset import data\n",
    "import prepare"
   ]
  },
  {
   "cell_type": "code",
   "execution_count": 6,
   "id": "ac9141e5",
   "metadata": {},
   "outputs": [],
   "source": [
    "titanic = prepare.prep_titanic(pd.read_csv('titanic_df.csv'))"
   ]
  },
  {
   "cell_type": "code",
   "execution_count": null,
   "id": "8cbb5454",
   "metadata": {},
   "outputs": [],
   "source": []
  }
 ],
 "metadata": {
  "kernelspec": {
   "display_name": "Python 3 (ipykernel)",
   "language": "python",
   "name": "python3"
  },
  "language_info": {
   "codemirror_mode": {
    "name": "ipython",
    "version": 3
   },
   "file_extension": ".py",
   "mimetype": "text/x-python",
   "name": "python",
   "nbconvert_exporter": "python",
   "pygments_lexer": "ipython3",
   "version": "3.9.13"
  }
 },
 "nbformat": 4,
 "nbformat_minor": 5
}
